{
  "nbformat": 4,
  "nbformat_minor": 0,
  "metadata": {
    "colab": {
      "name": "2021-10-14.ipynb",
      "provenance": [],
      "collapsed_sections": [],
      "include_colab_link": true
    },
    "kernelspec": {
      "name": "python3",
      "display_name": "Python 3"
    },
    "language_info": {
      "name": "python"
    }
  },
  "cells": [
    {
      "cell_type": "markdown",
      "metadata": {
        "id": "view-in-github",
        "colab_type": "text"
      },
      "source": [
        "<a href=\"https://colab.research.google.com/github/zera888/Image_process/blob/MachineLearning-100days/2021_10_14.ipynb\" target=\"_parent\"><img src=\"https://colab.research.google.com/assets/colab-badge.svg\" alt=\"Open In Colab\"/></a>"
      ]
    },
    {
      "cell_type": "code",
      "metadata": {
        "id": "thb-9DkqXoRR"
      },
      "source": [
        "!pip install pymysql"
      ],
      "execution_count": null,
      "outputs": []
    },
    {
      "cell_type": "code",
      "metadata": {
        "id": "DoHrmL3_c5cv"
      },
      "source": [
        "import pymysql\n",
        "link=pymysql.connect(\n",
        "  host=\"6.tcp.ngrok.io\",\n",
        "  user=\"root\", #帳號大家寫自己的\n",
        "  passwd=\"\",\n",
        "  db=\"test\", #資料庫名稱大家寫自己的\n",
        "  charset=\"utf8\",\n",
        "  port=15782\n",
        ")\n",
        "\n",
        "cur=link.cursor()\n",
        "\n",
        "cur.execute(\"SELECT * FROM `xxx`\")\n",
        "r=cur.fetchall()\n",
        "print(r)\n",
        "\n",
        "\n",
        "link.close()\n"
      ],
      "execution_count": null,
      "outputs": []
    },
    {
      "cell_type": "code",
      "metadata": {
        "id": "Nvfg1wvhUC55"
      },
      "source": [
        "import pymysql\n",
        "link=pymysql.connect(\n",
        "  host=\"teaching-db.bo-yuan.net\",\n",
        "  user=\"AI09_00\", #帳號大家寫自己的\n",
        "  passwd=\"123\",\n",
        "  db=\"AI09_00\", #資料庫名稱大家寫自己的\n",
        "  charset=\"utf8\",\n",
        "  port=3306\n",
        ")\n",
        "cur=link.cursor()\n",
        "# id=input(\"要修改的資料ID：\")\n",
        "title=input(\"標題：\")\n",
        "description=input(\"描述：\")\n",
        "source=input(\"來源：\")\n",
        "# create_date=input(\"日期：\")\n",
        "\n",
        "# cur.execute(\"UPDATE `news` SET `title`=%s,`description`=%s WHERE `id`=%s\",[title,description,id])\n",
        "# link.commit()\n",
        "\n",
        "cur.execute(\n",
        "  \"INSERT INTO `news`(`title`,`description`,`source`,`create_date`) VALUES(%s,%s,%s,'2021-10-14')\",\n",
        "  [title,description,source]\n",
        ")\n",
        "link.commit()\n",
        "\n",
        "link.close()"
      ],
      "execution_count": null,
      "outputs": []
    },
    {
      "cell_type": "code",
      "metadata": {
        "id": "Z_1EXwsKkHsD"
      },
      "source": [
        "import pymysql\n",
        "link=pymysql.connect(\n",
        "  host=\"teaching-db.bo-yuan.net\",\n",
        "  user=\"AI09_00\", #帳號大家寫自己的\n",
        "  passwd=\"123\",\n",
        "  db=\"AI09_00\", #資料庫名稱大家寫自己的\n",
        "  charset=\"utf8\",\n",
        "  port=3306\n",
        ")\n",
        "cur=link.cursor()\n",
        "\n",
        "cur.execute(\n",
        "  \"INSERT INTO `news`(`title`,`description`,`source`,`create_date`) VALUES(%(y)s,%(z)s,%(x)s,'2021-10-14')\",\n",
        "  {\n",
        "    \"x\":input(\"來源：\"),\n",
        "    \"y\":input(\"標題：\"),\n",
        "    \"z\":input(\"描述：\")\n",
        "  }\n",
        ")\n",
        "link.commit()\n",
        "print(cur.lastrowid)\n",
        "\n",
        "link.close()"
      ],
      "execution_count": null,
      "outputs": []
    },
    {
      "cell_type": "code",
      "metadata": {
        "id": "6_O5kyX6pkk8"
      },
      "source": [
        "import pymysql\n",
        "link=pymysql.connect(\n",
        "  host=\"teaching-db.bo-yuan.net\",\n",
        "  user=\"AI09_00\", #帳號大家寫自己的\n",
        "  passwd=\"123\",\n",
        "  db=\"AI09_00\", #資料庫名稱大家寫自己的\n",
        "  charset=\"utf8\",\n",
        "  port=3306\n",
        ")\n",
        "cur=link.cursor()\n",
        "\n",
        "# cur.execute(\"SELECT * FROM `news` LIMIT 2,1\")\n",
        "cur.execute(\"SELECT * FROM `news`\")\n",
        "d=cur.fetchone() #抓第一筆\n",
        "print(d[0],d[1],d[2])\n",
        "\n",
        "d=cur.fetchone() #抓第二筆\n",
        "print(d[0],d[1],d[2])\n",
        "\n",
        "#抓完剩下的\n",
        "for a in cur.fetchall():\n",
        "  print(a[0],a[1],a[2])\n",
        "\n",
        "# d=cur.fetchone() #fetchone不可以放在fetchall後面執行\n",
        "# print(d[0],d[1],d[2])\n",
        "\n",
        "link.close()"
      ],
      "execution_count": null,
      "outputs": []
    },
    {
      "cell_type": "code",
      "metadata": {
        "id": "GPHXQ8VtokE8"
      },
      "source": [
        "import requests,codecs\n",
        "from bs4 import BeautifulSoup\n",
        "import pymysql\n",
        "link=pymysql.connect(\n",
        "  host=\"teaching-db.bo-yuan.net\",\n",
        "  user=\"AI09_00\", #帳號大家寫自己的\n",
        "  passwd=\"123\",\n",
        "  db=\"AI09_00\", #資料庫名稱大家寫自己的\n",
        "  charset=\"utf8\",\n",
        "  port=3306\n",
        ")\n",
        "cur=link.cursor()\n",
        "\n",
        "r1=requests.get(\n",
        "  \"https://money.udn.com/rank/newest/1001/0/1\",\n",
        "  headers={\n",
        "    \"User-Agent\":\"Mozilla/5.0 (Windows NT 10.0; Win64; x64; rv:93.0) Gecko/20100101 Firefox/93.0\",\n",
        "    \"Cookie\":\"_fbp=fb.1.1633663623210.1882775856; _ga=GA1.2.1771640070.1633663623; __gads=ID=65d8959fc2d390af:T=1633663623:S=ALNI_MbC1UGBL22RONgv6cdY-GYys6viwQ; cto_bundle=-kdyol9YckVHNDlNeSUyRnlVb2ZPa2g3dmJwNktLTGUlMkZrTiUyRlRUVjlQQVhFV3lMeCUyRiUyRnklMkZsODJiVG4lMkY1alBEa0t0UFV5allYSmwlMkZVQ01NaVZTRDhSMU5RajNNbmp1NXBXUGtCJTJGejA4aUhxYnRsTmhNYmJyUzhUeVlFQ250V0pGc0wyJTJGaGsw; __asc=1b577b2717c7736b87ed750edca; __auc=1b577b2717c7736b87ed750edca; meter_1=1; meter_7=1; _gid=GA1.2.1808153399.1634087648; _gat_UA-19210365-3=1; _gat_UA-19660006-1=1; gliaplayer_ssid=ded47c80-2bc2-11ec-9e7e-cbdcd7321766; _gliaplayer_user_info={%22city%22:%22suginami%20city%22%2C%22uid%22:%22defdfd80-2bc2-11ec-9e7e-cbdcd7321766%22%2C%22country%22:%22TW%22%2C%22region%22:%2213%22%2C%22source%22:%22CF%22%2C%22latlong%22:%2235.699470%2C139.635520%22%2C%22ip%22:%22111.243.51.55%22}; _pbjs_userid_consent_data=3524755945110770\"\n",
        "  }\n",
        ")\n",
        "b1=BeautifulSoup(r1.text,\"html.parser\")\n",
        "for b2 in b1.find_all(\"tr\",{\"style\":\"table-row\"}):\n",
        "  print(\n",
        "    b2.find(\"td\",{\"align\":\"right\"}).text,\n",
        "    b2.find(\"a\").attrs[\"href\"],\n",
        "    b2.find(\"a\").text\n",
        "  )\n",
        "  r2=requests.get(\n",
        "    b2.find(\"a\").attrs[\"href\"],\n",
        "    headers={\n",
        "      \"User-Agent\":\"Mozilla/5.0 (Windows NT 10.0; Win64; x64; rv:93.0) Gecko/20100101 Firefox/93.0\",\n",
        "      \"Cookie\":\"_fbp=fb.1.1633663623210.1882775856; _ga=GA1.2.1771640070.1633663623; __gads=ID=65d8959fc2d390af:T=1633663623:S=ALNI_MbC1UGBL22RONgv6cdY-GYys6viwQ; cto_bundle=-kdyol9YckVHNDlNeSUyRnlVb2ZPa2g3dmJwNktLTGUlMkZrTiUyRlRUVjlQQVhFV3lMeCUyRiUyRnklMkZsODJiVG4lMkY1alBEa0t0UFV5allYSmwlMkZVQ01NaVZTRDhSMU5RajNNbmp1NXBXUGtCJTJGejA4aUhxYnRsTmhNYmJyUzhUeVlFQ250V0pGc0wyJTJGaGsw; __asc=1b577b2717c7736b87ed750edca; __auc=1b577b2717c7736b87ed750edca; meter_1=1; meter_7=1; _gid=GA1.2.1808153399.1634087648; _gat_UA-19210365-3=1; _gat_UA-19660006-1=1; gliaplayer_ssid=ded47c80-2bc2-11ec-9e7e-cbdcd7321766; _gliaplayer_user_info={%22city%22:%22suginami%20city%22%2C%22uid%22:%22defdfd80-2bc2-11ec-9e7e-cbdcd7321766%22%2C%22country%22:%22TW%22%2C%22region%22:%2213%22%2C%22source%22:%22CF%22%2C%22latlong%22:%2235.699470%2C139.635520%22%2C%22ip%22:%22111.243.51.55%22}; _pbjs_userid_consent_data=3524755945110770\"\n",
        "    }\n",
        "  )\n",
        "  b3=BeautifulSoup(r2.text,\"html.parser\")\n",
        "  description=\"\"\n",
        "  for b4 in b3.find(\"div\",{\"id\":\"article_body\"}).find_all(\"p\"):\n",
        "    description+=b4.text\n",
        "  cur.execute(\n",
        "    \"INSERT INTO `news`(`title`,`description`,`source`) VALUES(%(y)s,%(z)s,'聯合新聞網')\",\n",
        "    {\n",
        "      \"y\":b2.find(\"a\").text,\n",
        "      \"z\":description\n",
        "    }\n",
        "  )\n",
        "  link.commit()\n",
        "  \n",
        "  \n",
        "link.close()\n"
      ],
      "execution_count": null,
      "outputs": []
    },
    {
      "cell_type": "code",
      "metadata": {
        "id": "Fdqsw-OkSo9k"
      },
      "source": [
        "import cv2\n",
        "import numpy as np\n",
        "import IPython.display as dp\n",
        "from google.colab.patches import cv2_imshow\n",
        "\n",
        "m1=cv2.imread(\"1.jpg\", 1)\n",
        "# m1=cv2.cvtColor(m1, cv2.COLOR_BGR2HSV)\n",
        "m1=cv2.cvtColor(m1, cv2.COLOR_BGR2GRAY)\n",
        "m1=cv2.cvtColor(m1, cv2.COLOR_GRAY2BGR)\n",
        "cv2.imwrite(\"1-1.jpg\", m1, [cv2.IMWRITE_JPEG_QUALITY, 100])\n",
        "\n",
        "cv2_imshow(m1)\n",
        "# cv2.imshow(\"Windows 1\",m1) #離線版\n",
        "\n",
        "print(m1.shape)\n",
        "# print(m1[0])"
      ],
      "execution_count": null,
      "outputs": []
    },
    {
      "cell_type": "code",
      "metadata": {
        "id": "pmgEJPj7sdgA"
      },
      "source": [
        "import cv2\n",
        "import numpy as np\n",
        "import IPython.display as dp\n",
        "from google.colab.patches import cv2_imshow\n",
        "\n",
        "m1=np.full((300, 500, 3), (200,200,255), np.uint8)\n",
        "cv2_imshow(m1)\n",
        "\n",
        "m1=np.full((300, 500), 127, np.uint8)\n",
        "cv2_imshow(m1)"
      ],
      "execution_count": null,
      "outputs": []
    },
    {
      "cell_type": "code",
      "metadata": {
        "id": "HJ8eXuRDvWgp"
      },
      "source": [
        "import cv2\n",
        "import numpy as np\n",
        "import IPython.display as dp\n",
        "from google.colab.patches import cv2_imshow\n",
        "\n",
        "m1=cv2.imread(\"2.png\", -1)\n",
        "print(m1.shape)\n",
        "cv2_imshow(m1)\n"
      ],
      "execution_count": null,
      "outputs": []
    },
    {
      "cell_type": "code",
      "metadata": {
        "id": "tfKG86nDyHFJ"
      },
      "source": [
        "import cv2\n",
        "import numpy as np\n",
        "import IPython.display as dp\n",
        "from google.colab.patches import cv2_imshow\n",
        "\n",
        "m1=np.full((300, 500, 3), (255,255,255), np.uint8)\n",
        "cv2.line(m1, (20,20), (20,200), (0,0,255), 2)\n",
        "\n",
        "cv2.rectangle(m1, (40,40), (150,150), (0,255,0), 2)\n",
        "cv2.rectangle(m1, (200,40), (300,150), (0,255,0), -1)\n",
        "\n",
        "cv2.circle(m1, (100,230), 30, (255,0,0), 2)\n",
        "cv2.circle(m1, (200,230), 30, (255,0,0), -1)\n",
        "\n",
        "cv2_imshow(m1)"
      ],
      "execution_count": null,
      "outputs": []
    },
    {
      "cell_type": "code",
      "metadata": {
        "id": "wVK4rpfD2kJq"
      },
      "source": [
        "from PIL import ImageFont, ImageDraw, Image\n",
        "import cv2\n",
        "import numpy as np\n",
        "import IPython.display as dp\n",
        "from google.colab.patches import cv2_imshow\n",
        "\n",
        "# m1=np.full((300, 500, 3), (255,255,255), np.uint8)\n",
        "m1=cv2.imread(\"1.jpg\", 1)\n",
        "\n",
        "m1=Image.fromarray(m1)\n",
        "ImageDraw.Draw(m1).text((30,30), \"AI班\", (0,0,255), ImageFont.truetype(\"kaiu.ttf\",50))\n",
        "m1=np.array(m1)\n",
        "\n",
        "cv2_imshow(m1)"
      ],
      "execution_count": null,
      "outputs": []
    },
    {
      "cell_type": "code",
      "metadata": {
        "colab": {
          "base_uri": "https://localhost:8080/",
          "height": 517
        },
        "id": "GUBxZzZoDUes",
        "outputId": "19d6b7aa-31d6-4df4-ac38-6f255c5d7b9b"
      },
      "source": [
        "from PIL import ImageFont, ImageDraw, Image\n",
        "import cv2\n",
        "import numpy as np\n",
        "import IPython.display as dp\n",
        "from google.colab.patches import cv2_imshow\n",
        "import time\n",
        "\n",
        "m1=np.full((500, 500, 3), (255,255,255), np.uint8)\n",
        "for w in range(5,250,15):\n",
        "  dp.clear_output(True)\n",
        "  cv2.circle(m1, (250,250), w, (255,0,0), -1)\n",
        "  cv2_imshow(m1)\n",
        "  time.sleep(0.3)"
      ],
      "execution_count": null,
      "outputs": [
        {
          "output_type": "display_data",
          "data": {
            "image/png": "[encoded data removed]",
            "text/plain": [
              "<PIL.Image.Image image mode=RGB size=500x500 at 0x7FA7AFBFCB90>"
            ]
          },
          "metadata": {}
        }
      ]
    }
  ]
}